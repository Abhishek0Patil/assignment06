{
 "cells": [
  {
   "cell_type": "code",
   "execution_count": 17,
   "id": "1450f2b2-d869-4cf7-8c18-6f6ea1a8daf9",
   "metadata": {},
   "outputs": [
    {
     "name": "stdin",
     "output_type": "stream",
     "text": [
      "enter the marks in percentage  55\n"
     ]
    },
    {
     "name": "stdout",
     "output_type": "stream",
     "text": [
      " the grade is D\n"
     ]
    }
   ],
   "source": [
    "percentage=int(input(\"enter the marks in percentage \"))\n",
    "if percentage >90:\n",
    "    print(\" the grade is A\")\n",
    "elif percentage >80 and percentage<=90:\n",
    "    print(\" the grade is B\")\n",
    "elif percentage >=60 and percentage<=80:\n",
    "    print(\" the grade is C\")\n",
    "elif percentage <60:\n",
    "    print(\" the grade is D\")\n"
   ]
  },
  {
   "cell_type": "code",
   "execution_count": 21,
   "id": "3b87cc8b-a73b-4b77-a63c-3d53ff9e7872",
   "metadata": {},
   "outputs": [
    {
     "name": "stdin",
     "output_type": "stream",
     "text": [
      "enter the cost price of bike 125000\n"
     ]
    },
    {
     "name": "stdout",
     "output_type": "stream",
     "text": [
      " 15% tax to be paid \n"
     ]
    }
   ],
   "source": [
    "cost=int(input(\"enter the cost price of bike\"))\n",
    "if cost>100000:\n",
    "    print(\" 15% tax to be paid \")\n",
    "elif cost>50000 and cost <=100000:\n",
    "    print(\" 10% tax to be paid \")\n",
    "elif cost<=50000:\n",
    "    print(\" 5% tax to be paid \")"
   ]
  },
  {
   "cell_type": "code",
   "execution_count": 23,
   "id": "b01d189b-c0ed-4b23-a275-681f1e433ba2",
   "metadata": {},
   "outputs": [
    {
     "name": "stdin",
     "output_type": "stream",
     "text": [
      "enter the city Agra\n"
     ]
    },
    {
     "name": "stdout",
     "output_type": "stream",
     "text": [
      "Taj Mahal\n"
     ]
    }
   ],
   "source": [
    "city=input(\"enter the city\")\n",
    "if city ==\"Delhi\":\n",
    "    print(\"Red Fort\")\n",
    "if city ==\"Agra\":\n",
    "    print(\"Taj Mahal\")\n",
    "if city ==\"Jaipur\":\n",
    "    print(\"Jal Mahal\")"
   ]
  },
  {
   "cell_type": "code",
   "execution_count": 27,
   "id": "1dfd3f43-1333-421a-847f-556ca7c4ccdd",
   "metadata": {},
   "outputs": [
    {
     "name": "stdin",
     "output_type": "stream",
     "text": [
      "Enter a number:  3465\n"
     ]
    },
    {
     "name": "stdout",
     "output_type": "stream",
     "text": [
      "The number can be divided by 3, 6 times before it is less than or equal to 10.\n"
     ]
    }
   ],
   "source": [
    "num = int(input(\"Enter a number: \"))\n",
    "\n",
    "count = 0\n",
    "while num > 10:\n",
    "    num = num // 3\n",
    "    count += 1\n",
    "\n",
    "print(\"The number can be divided by 3,\", count, \"times before it is less than or equal to 10.\")"
   ]
  },
  {
   "cell_type": "markdown",
   "id": "6255487e-d8e5-4835-81f7-1c1c94189bcf",
   "metadata": {},
   "source": [
    "In Python, a while loop is a control flow statement that repeatedly executes a block of code until a certain condition is met. The condition is evaluated at the beginning of each iteration, and if it is true, the block of code is executed. The loop continues until the condition becomes false."
   ]
  },
  {
   "cell_type": "code",
   "execution_count": 1,
   "id": "dbda3f90-68cf-4c00-ae06-1f02947a0f4c",
   "metadata": {},
   "outputs": [
    {
     "name": "stdout",
     "output_type": "stream",
     "text": [
      "1\n",
      "2\n",
      "3\n",
      "4\n",
      "5\n"
     ]
    }
   ],
   "source": [
    "i = 1\n",
    "while i < 6:\n",
    "  print(i)\n",
    "  i += 1"
   ]
  },
  {
   "cell_type": "code",
   "execution_count": 7,
   "id": "e6e251a0-4f36-4063-90a4-c81e8366bdeb",
   "metadata": {},
   "outputs": [
    {
     "name": "stdout",
     "output_type": "stream",
     "text": [
      "* * * * * \n",
      "* * * * * \n",
      "* * * * * \n",
      "* * * * * \n",
      "* * * * * \n"
     ]
    }
   ],
   "source": [
    "n = 5\n",
    "i = 0\n",
    "while i < n:\n",
    "    j = 0\n",
    "    while j < n:\n",
    "        print(\"*\", end=\" \")\n",
    "        j += 1\n",
    "    print()\n",
    "    i += 1"
   ]
  },
  {
   "cell_type": "code",
   "execution_count": 3,
   "id": "a84050b2-0994-4f8a-8dc0-8d979c485082",
   "metadata": {},
   "outputs": [
    {
     "name": "stdout",
     "output_type": "stream",
     "text": [
      "* \n",
      "* * \n",
      "* * * \n",
      "* * * * \n",
      "* * * * * \n"
     ]
    }
   ],
   "source": [
    "n = 5\n",
    "i = 0\n",
    "while i < n:\n",
    "    j = 0\n",
    "    while j <= i:\n",
    "        print(\"*\", end=\" \")\n",
    "        j += 1\n",
    "    print()\n",
    "    i += 1\n"
   ]
  },
  {
   "cell_type": "code",
   "execution_count": 4,
   "id": "e8d7eb3f-bf87-41d0-9097-ede56eb5a311",
   "metadata": {},
   "outputs": [
    {
     "name": "stdout",
     "output_type": "stream",
     "text": [
      "* * * * * \n",
      "* * * * \n",
      "* * * \n",
      "* * \n",
      "* \n"
     ]
    }
   ],
   "source": [
    "n = 5\n",
    "i = n\n",
    "while i > 0:\n",
    "    j = 0\n",
    "    while j < i:\n",
    "        print(\"*\", end=\" \")\n",
    "        j += 1\n",
    "    print()\n",
    "    i -= 1\n"
   ]
  },
  {
   "cell_type": "code",
   "execution_count": 8,
   "id": "36560b04-8a48-452a-8bb6-d050fe724490",
   "metadata": {},
   "outputs": [
    {
     "name": "stdout",
     "output_type": "stream",
     "text": [
      "10\n",
      "9\n",
      "8\n",
      "7\n",
      "6\n",
      "5\n",
      "4\n",
      "3\n",
      "2\n",
      "1\n"
     ]
    }
   ],
   "source": [
    "num = 10\n",
    "while num >= 1:\n",
    "    print(num)\n",
    "    num -= 1"
   ]
  },
  {
   "cell_type": "code",
   "execution_count": null,
   "id": "028978b3-2bf1-4d65-9b37-4b41d701be3c",
   "metadata": {},
   "outputs": [],
   "source": []
  }
 ],
 "metadata": {
  "kernelspec": {
   "display_name": "Python 3 (ipykernel)",
   "language": "python",
   "name": "python3"
  },
  "language_info": {
   "codemirror_mode": {
    "name": "ipython",
    "version": 3
   },
   "file_extension": ".py",
   "mimetype": "text/x-python",
   "name": "python",
   "nbconvert_exporter": "python",
   "pygments_lexer": "ipython3",
   "version": "3.10.8"
  }
 },
 "nbformat": 4,
 "nbformat_minor": 5
}
